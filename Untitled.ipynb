{
 "cells": [
  {
   "cell_type": "code",
   "execution_count": 15,
   "id": "08aaaa6b",
   "metadata": {},
   "outputs": [],
   "source": [
    "import pandas as pd\n",
    "import pandas_datareader.data as web \n",
    "import numpy as np"
   ]
  },
  {
   "cell_type": "code",
   "execution_count": 16,
   "id": "f0b80213",
   "metadata": {},
   "outputs": [
    {
     "data": {
      "text/html": [
       "<div>\n",
       "<style scoped>\n",
       "    .dataframe tbody tr th:only-of-type {\n",
       "        vertical-align: middle;\n",
       "    }\n",
       "\n",
       "    .dataframe tbody tr th {\n",
       "        vertical-align: top;\n",
       "    }\n",
       "\n",
       "    .dataframe thead th {\n",
       "        text-align: right;\n",
       "    }\n",
       "</style>\n",
       "<table border=\"1\" class=\"dataframe\">\n",
       "  <thead>\n",
       "    <tr style=\"text-align: right;\">\n",
       "      <th></th>\n",
       "      <th>High</th>\n",
       "      <th>Low</th>\n",
       "      <th>Open</th>\n",
       "      <th>Close</th>\n",
       "      <th>Volume</th>\n",
       "      <th>Adj Close</th>\n",
       "    </tr>\n",
       "    <tr>\n",
       "      <th>Date</th>\n",
       "      <th></th>\n",
       "      <th></th>\n",
       "      <th></th>\n",
       "      <th></th>\n",
       "      <th></th>\n",
       "      <th></th>\n",
       "    </tr>\n",
       "  </thead>\n",
       "  <tbody>\n",
       "    <tr>\n",
       "      <th>2019-09-09</th>\n",
       "      <td>72.400002</td>\n",
       "      <td>69.839996</td>\n",
       "      <td>70.000000</td>\n",
       "      <td>71.680000</td>\n",
       "      <td>6245063.0</td>\n",
       "      <td>70.804443</td>\n",
       "    </tr>\n",
       "    <tr>\n",
       "      <th>2019-09-10</th>\n",
       "      <td>74.160004</td>\n",
       "      <td>71.199997</td>\n",
       "      <td>71.279999</td>\n",
       "      <td>73.120003</td>\n",
       "      <td>7827150.0</td>\n",
       "      <td>72.226852</td>\n",
       "    </tr>\n",
       "    <tr>\n",
       "      <th>2019-09-11</th>\n",
       "      <td>74.879997</td>\n",
       "      <td>72.480003</td>\n",
       "      <td>73.199997</td>\n",
       "      <td>74.879997</td>\n",
       "      <td>7136863.0</td>\n",
       "      <td>73.965355</td>\n",
       "    </tr>\n",
       "    <tr>\n",
       "      <th>2019-09-12</th>\n",
       "      <td>76.160004</td>\n",
       "      <td>73.760002</td>\n",
       "      <td>75.199997</td>\n",
       "      <td>74.080002</td>\n",
       "      <td>8514388.0</td>\n",
       "      <td>73.175133</td>\n",
       "    </tr>\n",
       "    <tr>\n",
       "      <th>2019-09-13</th>\n",
       "      <td>75.599998</td>\n",
       "      <td>73.120003</td>\n",
       "      <td>74.480003</td>\n",
       "      <td>74.720001</td>\n",
       "      <td>5698675.0</td>\n",
       "      <td>73.887085</td>\n",
       "    </tr>\n",
       "  </tbody>\n",
       "</table>\n",
       "</div>"
      ],
      "text/plain": [
       "                 High        Low       Open      Close     Volume  Adj Close\n",
       "Date                                                                        \n",
       "2019-09-09  72.400002  69.839996  70.000000  71.680000  6245063.0  70.804443\n",
       "2019-09-10  74.160004  71.199997  71.279999  73.120003  7827150.0  72.226852\n",
       "2019-09-11  74.879997  72.480003  73.199997  74.879997  7136863.0  73.965355\n",
       "2019-09-12  76.160004  73.760002  75.199997  74.080002  8514388.0  73.175133\n",
       "2019-09-13  75.599998  73.120003  74.480003  74.720001  5698675.0  73.887085"
      ]
     },
     "execution_count": 16,
     "metadata": {},
     "output_type": "execute_result"
    }
   ],
   "source": [
    "df=web.DataReader(\"GE\",\"yahoo\",start=\"2019-09-10\",end='2019-10-09')\n",
    "df.head()"
   ]
  },
  {
   "cell_type": "code",
   "execution_count": 17,
   "id": "35e6caff",
   "metadata": {},
   "outputs": [
    {
     "data": {
      "text/plain": [
       "(23, 6)"
      ]
     },
     "execution_count": 17,
     "metadata": {},
     "output_type": "execute_result"
    }
   ],
   "source": [
    "df.shape"
   ]
  },
  {
   "cell_type": "code",
   "execution_count": 18,
   "id": "80f30e7a",
   "metadata": {},
   "outputs": [
    {
     "data": {
      "text/html": [
       "<div>\n",
       "<style scoped>\n",
       "    .dataframe tbody tr th:only-of-type {\n",
       "        vertical-align: middle;\n",
       "    }\n",
       "\n",
       "    .dataframe tbody tr th {\n",
       "        vertical-align: top;\n",
       "    }\n",
       "\n",
       "    .dataframe thead th {\n",
       "        text-align: right;\n",
       "    }\n",
       "</style>\n",
       "<table border=\"1\" class=\"dataframe\">\n",
       "  <thead>\n",
       "    <tr style=\"text-align: right;\">\n",
       "      <th></th>\n",
       "      <th>High</th>\n",
       "      <th>Low</th>\n",
       "      <th>Open</th>\n",
       "      <th>Close</th>\n",
       "      <th>Volume</th>\n",
       "      <th>Adj Close</th>\n",
       "    </tr>\n",
       "    <tr>\n",
       "      <th>Date</th>\n",
       "      <th></th>\n",
       "      <th></th>\n",
       "      <th></th>\n",
       "      <th></th>\n",
       "      <th></th>\n",
       "      <th></th>\n",
       "    </tr>\n",
       "  </thead>\n",
       "  <tbody>\n",
       "    <tr>\n",
       "      <th>2019-10-03</th>\n",
       "      <td>69.680000</td>\n",
       "      <td>66.000000</td>\n",
       "      <td>68.000000</td>\n",
       "      <td>69.680000</td>\n",
       "      <td>7328325.0</td>\n",
       "      <td>68.903275</td>\n",
       "    </tr>\n",
       "    <tr>\n",
       "      <th>2019-10-04</th>\n",
       "      <td>69.599998</td>\n",
       "      <td>68.320000</td>\n",
       "      <td>68.879997</td>\n",
       "      <td>68.559998</td>\n",
       "      <td>6534100.0</td>\n",
       "      <td>67.795769</td>\n",
       "    </tr>\n",
       "    <tr>\n",
       "      <th>2019-10-07</th>\n",
       "      <td>69.199997</td>\n",
       "      <td>67.839996</td>\n",
       "      <td>68.400002</td>\n",
       "      <td>68.480003</td>\n",
       "      <td>4021300.0</td>\n",
       "      <td>67.716660</td>\n",
       "    </tr>\n",
       "    <tr>\n",
       "      <th>2019-10-08</th>\n",
       "      <td>68.000000</td>\n",
       "      <td>66.160004</td>\n",
       "      <td>67.839996</td>\n",
       "      <td>66.239998</td>\n",
       "      <td>5687800.0</td>\n",
       "      <td>65.501633</td>\n",
       "    </tr>\n",
       "    <tr>\n",
       "      <th>2019-10-09</th>\n",
       "      <td>66.959999</td>\n",
       "      <td>65.919998</td>\n",
       "      <td>66.480003</td>\n",
       "      <td>66.800003</td>\n",
       "      <td>4105100.0</td>\n",
       "      <td>66.055382</td>\n",
       "    </tr>\n",
       "  </tbody>\n",
       "</table>\n",
       "</div>"
      ],
      "text/plain": [
       "                 High        Low       Open      Close     Volume  Adj Close\n",
       "Date                                                                        \n",
       "2019-10-03  69.680000  66.000000  68.000000  69.680000  7328325.0  68.903275\n",
       "2019-10-04  69.599998  68.320000  68.879997  68.559998  6534100.0  67.795769\n",
       "2019-10-07  69.199997  67.839996  68.400002  68.480003  4021300.0  67.716660\n",
       "2019-10-08  68.000000  66.160004  67.839996  66.239998  5687800.0  65.501633\n",
       "2019-10-09  66.959999  65.919998  66.480003  66.800003  4105100.0  66.055382"
      ]
     },
     "execution_count": 18,
     "metadata": {},
     "output_type": "execute_result"
    }
   ],
   "source": [
    "df.tail()"
   ]
  },
  {
   "cell_type": "code",
   "execution_count": null,
   "id": "c7941931",
   "metadata": {},
   "outputs": [],
   "source": []
  }
 ],
 "metadata": {
  "kernelspec": {
   "display_name": "Python 3 (ipykernel)",
   "language": "python",
   "name": "python3"
  },
  "language_info": {
   "codemirror_mode": {
    "name": "ipython",
    "version": 3
   },
   "file_extension": ".py",
   "mimetype": "text/x-python",
   "name": "python",
   "nbconvert_exporter": "python",
   "pygments_lexer": "ipython3",
   "version": "3.10.1"
  }
 },
 "nbformat": 4,
 "nbformat_minor": 5
}
